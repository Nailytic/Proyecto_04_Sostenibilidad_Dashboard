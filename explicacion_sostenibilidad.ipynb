{
 "cells": [
  {
   "cell_type": "markdown",
   "id": "d05212a3",
   "metadata": {},
   "source": [
    "# 📘 Proyecto 04: Dashboard de Sostenibilidad"
   ]
  },
  {
   "cell_type": "markdown",
   "id": "5349f79c",
   "metadata": {},
   "source": [
    "Este notebook explica el uso de Dash y Plotly para construir dashboards interactivos con indicadores ESG."
   ]
  },
  {
   "cell_type": "markdown",
   "id": "61895ae8",
   "metadata": {},
   "source": [
    "## Dataset\n",
    "12 meses × 6 unidades = 72 registros con métricas mensuales."
   ]
  },
  {
   "cell_type": "markdown",
   "id": "cc3156b0",
   "metadata": {},
   "source": [
    "## Indicadores\n",
    "- Energía, CO₂, Reciclaje, Participación, Cumplimiento"
   ]
  },
  {
   "cell_type": "markdown",
   "id": "f7b6ad3c",
   "metadata": {},
   "source": [
    "## Visualizaciones\n",
    "- Líneas por unidad (energía, CO₂)\n",
    "- Barras por reciclaje mensual"
   ]
  },
  {
   "cell_type": "markdown",
   "id": "31f21abe",
   "metadata": {},
   "source": [
    "## Conclusión\n",
    "El dashboard proporciona una vista ejecutiva y dinámica para monitorear sostenibilidad organizacional."
   ]
  }
 ],
 "metadata": {
  "kernelspec": {
   "display_name": "Python 3",
   "language": "python",
   "name": "python3"
  },
  "language_info": {
   "name": "python",
   "version": "3.9"
  }
 },
 "nbformat": 4,
 "nbformat_minor": 5
}
